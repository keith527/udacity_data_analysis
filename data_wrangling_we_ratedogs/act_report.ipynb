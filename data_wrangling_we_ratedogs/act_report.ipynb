{
 "cells": [
  {
   "cell_type": "markdown",
   "metadata": {},
   "source": [
    "# WeRateDogs 的推特档案的数据探索"
   ]
  },
  {
   "cell_type": "markdown",
   "metadata": {},
   "source": [
    "通过各方渠道收集了推特用户`WeRateDogs`截止2017 年 4 月 1 日的5000 多条推特数据，经过评估和清理，最终留下来 1991 条给狗狗评分的数据。我们通过对清理后的数据进行一些简单的可视化探索来寻找博主发文中有关狗狗的内容是否会对推特的受欢迎度产生影响（点赞与转发数），有以下一些发现："
   ]
  },
  {
   "cell_type": "markdown",
   "metadata": {},
   "source": [
    "## 1. 推特的转发数和点赞数呈线性相关，也可看出不同的推文会带来不同的关注度\n",
    "可以看到博主的推文点赞数在 0-4万，转发数载0-2万，转发率普遍较高，有固定的铁粉。"
   ]
  },
  {
   "attachments": {},
   "cell_type": "markdown",
   "metadata": {},
   "source": [
    "![image.png](images/img1.png)"
   ]
  },
  {
   "cell_type": "markdown",
   "metadata": {},
   "source": [
    "## 2. 给狗狗分不同的等级类别与推特的转发、点赞数量没有很明显的相关性\n",
    "预期博主对狗狗的不同评级会引来不同推文热度，但这种关系在已有的数据里并不明显，主要可能因为各类宠物评级的数据量并不一致。"
   ]
  },
  {
   "attachments": {},
   "cell_type": "markdown",
   "metadata": {},
   "source": [
    "![image.png](images/img21.png)"
   ]
  },
  {
   "cell_type": "markdown",
   "metadata": {},
   "source": [
    "![image.png](images/img22.png)"
   ]
  },
  {
   "cell_type": "markdown",
   "metadata": {},
   "source": [
    "## 3. 给狗狗进行的评分高低对推特受欢迎有影响\n",
    "可以看到，评分分母在10-14区间范围内（该范围内每个分数的统计数量相差不大），点赞转发数情况随分数递增。当博主发布了一条较高的狗狗评分时，会引来更大的关注。"
   ]
  },
  {
   "attachments": {},
   "cell_type": "markdown",
   "metadata": {},
   "source": [
    "![image.png](images/img3.png)"
   ]
  }
 ],
 "metadata": {
  "kernelspec": {
   "display_name": "Python 3",
   "language": "python",
   "name": "python3"
  },
  "language_info": {
   "codemirror_mode": {
    "name": "ipython",
    "version": 3
   },
   "file_extension": ".py",
   "mimetype": "text/x-python",
   "name": "python",
   "nbconvert_exporter": "python",
   "pygments_lexer": "ipython3",
   "version": "3.7.1"
  }
 },
 "nbformat": 4,
 "nbformat_minor": 2
}
